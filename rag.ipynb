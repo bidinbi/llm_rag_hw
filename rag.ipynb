{
 "cells": [
  {
   "cell_type": "code",
   "execution_count": 20,
   "id": "bd67ed7f",
   "metadata": {},
   "outputs": [],
   "source": [
    "import os\n",
    "import configparser\n",
    "from langchain_community.document_loaders import TextLoader, DirectoryLoader\n",
    "from langchain_mistralai.chat_models import ChatMistralAI\n",
    "from langchain_mistralai.embeddings import MistralAIEmbeddings\n",
    "from langchain_community.vectorstores import FAISS\n",
    "from langchain.text_splitter import RecursiveCharacterTextSplitter\n",
    "from langchain.chains.combine_documents import create_stuff_documents_chain\n",
    "from langchain_core.prompts import ChatPromptTemplate\n",
    "from langchain.chains import create_retrieval_chain\n",
    "from IPython.display import display, Latex\n",
    "from warnings import filterwarnings\n",
    "filterwarnings('ignore')"
   ]
  },
  {
   "cell_type": "code",
   "execution_count": 21,
   "id": "7c8f89d3",
   "metadata": {},
   "outputs": [],
   "source": [
    "config = configparser.ConfigParser()\n",
    "config.read('config')   \n",
    "api_key = config.get('Mistral', 'api_key')"
   ]
  },
  {
   "cell_type": "code",
   "execution_count": 22,
   "id": "6c5cfebe",
   "metadata": {},
   "outputs": [],
   "source": [
    "# Define the embedding model\n",
    "embeddings = MistralAIEmbeddings(model=\"mistral-embed\", mistral_api_key=api_key)"
   ]
  },
  {
   "cell_type": "markdown",
   "id": "62642ae0",
   "metadata": {},
   "source": [
    "## Пытаемся получить и сохранить vector store\n",
    "MistralAI дает too many requests ошибку, пытаемся ее обойти"
   ]
  },
  {
   "cell_type": "code",
   "execution_count": 23,
   "id": "da7620f2",
   "metadata": {},
   "outputs": [],
   "source": [
    "# for i in range(1, 39):\n",
    "#     # Load data\n",
    "#     loader = TextLoader(f'data/chapter{i}.tex')\n",
    "#     #loader = DirectoryLoader('data', glob=\"**/*r1.tex\", loader_cls=TextLoader)\n",
    "#     docs = loader.load()\n",
    "#     # Split text into chunks \n",
    "#     text_splitter = RecursiveCharacterTextSplitter()\n",
    "#     documents = text_splitter.split_documents(docs)\n",
    "#     # Create the vector store \n",
    "#     try:\n",
    "#         if not os.path.exists(f'vector_store/faiss_index_{i}'):\n",
    "#             vector = FAISS.from_documents(documents, embeddings)\n",
    "#             vector.save_local(f\"vector_store/faiss_index_{i}\")\n",
    "#     except:\n",
    "#         print(i)\n",
    "\n",
    "# # Load the vector store\n",
    "# vector = FAISS.load_local(\"vector_store/faiss_index_1\", embeddings,  allow_dangerous_deserialization=True)\n",
    "\n",
    "# for i in range(2, 39):\n",
    "#     tmp = FAISS.load_local(f\"vector_store/faiss_index_{i}\", embeddings,  allow_dangerous_deserialization=True)\n",
    "#     vector.merge_from(tmp)\n",
    "# vector.save_local(f\"vector_store/all_indexes\")"
   ]
  },
  {
   "cell_type": "code",
   "execution_count": 24,
   "id": "89c8e3b9",
   "metadata": {},
   "outputs": [],
   "source": [
    "#Load the vector store\n",
    "vector = FAISS.load_local(\"vector_store/all_indexes\", embeddings,  allow_dangerous_deserialization=True)"
   ]
  },
  {
   "cell_type": "code",
   "execution_count": 25,
   "id": "4bcca101",
   "metadata": {},
   "outputs": [],
   "source": [
    "# Define a retriever interface\n",
    "retriever = vector.as_retriever()"
   ]
  },
  {
   "cell_type": "code",
   "execution_count": 26,
   "id": "6f74e81f",
   "metadata": {},
   "outputs": [],
   "source": [
    "# Define LLM\n",
    "model = ChatMistralAI(mistral_api_key=api_key)"
   ]
  },
  {
   "cell_type": "code",
   "execution_count": 27,
   "id": "fa971b4a",
   "metadata": {},
   "outputs": [],
   "source": [
    "# Define prompt template\n",
    "prompt = ChatPromptTemplate.from_template(\"\"\"Ответь на следующий вопрос основываясь только на предоставленном контексте:\n",
    "\n",
    "\n",
    "<контекст>\n",
    "{context}\n",
    "</контекст>\n",
    "\n",
    "Вопрос: {input}\"\"\")"
   ]
  },
  {
   "cell_type": "markdown",
   "id": "07d3472f",
   "metadata": {},
   "source": [
    "# Смотрим, что выдает RAG на основе госбука"
   ]
  },
  {
   "cell_type": "code",
   "execution_count": 44,
   "id": "7b649211",
   "metadata": {},
   "outputs": [
    {
     "data": {
      "text/latex": [
       "Критерий Коши для последовательности утверждает, что числовая последовательность $\\{x_n\\}$ сходится тогда и только тогда, когда она является фундаментальной последовательностью, что означает, что для любого $\\epsilon > 0$ существует натуральное число $N_{\\epsilon}$, такое что $|x_n - x_m| < \\epsilon$ для всех $n, m > N_{\\epsilon}$. Это условие также называется условием Коши сходимости последовательности."
      ],
      "text/plain": [
       "<IPython.core.display.Latex object>"
      ]
     },
     "metadata": {},
     "output_type": "display_data"
    }
   ],
   "source": [
    "# Create a retrieval chain to answer questions\n",
    "document_chain = create_stuff_documents_chain(model, prompt)\n",
    "retrieval_chain = create_retrieval_chain(retriever, document_chain)\n",
    "response = retrieval_chain.invoke({\"input\": \"Критерий Коши для последовательности\"})\n",
    "display(Latex(response['answer']))"
   ]
  },
  {
   "cell_type": "markdown",
   "id": "75a6d092",
   "metadata": {},
   "source": [
    "# Смотрим, что выдает обычная модель"
   ]
  },
  {
   "cell_type": "code",
   "execution_count": 46,
   "id": "8afbd515",
   "metadata": {},
   "outputs": [
    {
     "data": {
      "text/latex": [
       "Критерий Коши (также называемыйCriterion of Cauchy илиCauchy convergence test) — это метод для определения, сходится ли данная бесконечная математическая последовательность чисел. Он утверждает, что если для любого ε > 0 существует номер N такой, что для любых натуральных чисел m и n, больших или равных N, абсолютная величина разности между m-м и n-м членами последовательности меньше ε, то последовательность сходится. Символически это записывается так:\n",
       "\n",
       "if for every ε > 0 there exists a natural number N such that for all natural numbers m, n ≥ N, |a\\_m - a\\_n| < ε,\n",
       "\n",
       "then the sequence {a\\_n} is convergent.\n",
       "\n",
       "In other words, if the terms of the sequence eventually get arbitrarily close to each other, then the sequence is convergent.\n",
       "\n",
       "It's important to note that this criterion does not provide a way to find the limit of the sequence, it only tells us whether or not the sequence converges."
      ],
      "text/plain": [
       "<IPython.core.display.Latex object>"
      ]
     },
     "metadata": {},
     "output_type": "display_data"
    }
   ],
   "source": [
    "from langchain_core.messages import HumanMessage\n",
    "messages = [HumanMessage(content=\"Критерий Коши для последовательности\")]\n",
    "display(Latex(model.invoke(messages).content))"
   ]
  }
 ],
 "metadata": {
  "kernelspec": {
   "display_name": "rag",
   "language": "python",
   "name": "rag"
  },
  "language_info": {
   "codemirror_mode": {
    "name": "ipython",
    "version": 3
   },
   "file_extension": ".py",
   "mimetype": "text/x-python",
   "name": "python",
   "nbconvert_exporter": "python",
   "pygments_lexer": "ipython3",
   "version": "3.9.1"
  }
 },
 "nbformat": 4,
 "nbformat_minor": 5
}
